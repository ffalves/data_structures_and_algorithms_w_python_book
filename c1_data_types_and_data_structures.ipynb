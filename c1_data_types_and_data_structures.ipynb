{
 "cells": [
  {
   "cell_type": "markdown",
   "metadata": {},
   "source": [
    "Estruturas de Dados e Algoritmos com Python Armazene, manipule e acesse dados de forma eficaz e melhore o desempenho de suas aplicações \n",
    "Basant Agarwal\n",
    "2022\n",
    "Agarwal, Dr Basant. Estruturas de Dados e Algoritmos com Python (p. 1). Novatec Editora. Kindle Edition. "
   ]
  },
  {
   "cell_type": "markdown",
   "metadata": {},
   "source": [
    "Cap 1. Tipos e estruturas de dados em Python"
   ]
  },
  {
   "cell_type": "code",
   "execution_count": 1,
   "metadata": {},
   "outputs": [
    {
     "name": "stdout",
     "output_type": "stream",
     "text": [
      "Value is not present in the list\n"
     ]
    }
   ],
   "source": [
    "# Operadores de associação: in, not in = TRUE/FALSE\n",
    "\n",
    "val = 104\n",
    "mylist = [100, 210, 430, 840, 108]\n",
    "if val not in mylist:\n",
    "    print(\"Value is not present in the list\")\n",
    "else:\n",
    "    print(\"Value is in the list\")"
   ]
  },
  {
   "cell_type": "code",
   "execution_count": 3,
   "metadata": {},
   "outputs": [
    {
     "name": "stdout",
     "output_type": "stream",
     "text": [
      "Both are equal\n",
      "Both are not pointing to the same object\n",
      "Both are not pointing to the same object\n",
      "3rd and 1st are pointing to the same object\n"
     ]
    }
   ],
   "source": [
    "# Operadores de identidade: is, is not = TRUE/FALSE\n",
    "FirstList = []\n",
    "SecondList = []\n",
    "\n",
    "if FirstList == SecondList:\n",
    "    print (\"Both are equal\")\n",
    "else:\n",
    "    print (\"Both are not equal\")\n",
    "\n",
    "if FirstList is SecondList:\n",
    "    print (\"Both are pointing to the same object\")\n",
    "else:\n",
    "    print (\"Both are not pointing to the same object\")\n",
    "\n",
    "ThirdList = FirstList\n",
    "\n",
    "if ThirdList is SecondList:\n",
    "    print (\"Both are pointing to the same object\")\n",
    "else:\n",
    "    print (\"Both are not pointing to the same object\")\n",
    "\n",
    "if ThirdList is FirstList:\n",
    "    print (\"3rd and 1st are pointing to the same object\")\n",
    "else:\n",
    "    print (\"3rs and 1st are not poiting to the same object\")"
   ]
  },
  {
   "cell_type": "code",
   "execution_count": 4,
   "metadata": {},
   "outputs": [
    {
     "name": "stdout",
     "output_type": "stream",
     "text": [
      "Both are greater than zero\n",
      "Boolean value of a is True\n"
     ]
    }
   ],
   "source": [
    "# Operadores lógicos: AND, OR, NOT\n",
    "a = 32\n",
    "b = 132\n",
    "\n",
    "if a > 0 and b > 0:\n",
    "    print(\"Both are greater than zero\")\n",
    "else:\n",
    "    print (\"At least one is less than zero\")\n",
    "\n",
    "# NOT = TRUE quando  o objeto é falso\n",
    "if not a:\n",
    "    print (\"Boolean value of a a is False\")\n",
    "else:\n",
    "    print (\"Boolean value of a is True\")"
   ]
  },
  {
   "cell_type": "markdown",
   "metadata": {},
   "source": [
    "Um objeto é HASHABLE se ele tem um valor de hash que permanece o mesmo durante sua existência. O valor de hash é um número inteiro gerado por uma função de hash que é usada em conjuntos e dicionários para realizar operações rápidas de busca e inserção.\n",
    "Um conjunto (set) é uma coleção não ordenada de objetos hashable. Iterável e mutável e contém elementos únicos.\n",
    "São usados em operações matemáticas tais como intersecção, união, diferença e complemento."
   ]
  },
  {
   "cell_type": "code",
   "execution_count": 5,
   "metadata": {},
   "outputs": [
    {
     "name": "stdout",
     "output_type": "stream",
     "text": [
      "{'data', 'python', 'structure', 'and'}\n",
      "<class 'set'>\n",
      "{'data', 'python', 'structure', 'and'}\n",
      "<class 'set'>\n"
     ]
    }
   ],
   "source": [
    "x1 = set(['and', 'python', 'data', 'structure'])\n",
    "print (x1)\n",
    "print (type(x1))\n",
    "x2 = {'and', 'python', 'data', 'structure'}\n",
    "print (x2)\n",
    "print (type(x2))"
   ]
  },
  {
   "cell_type": "code",
   "execution_count": 11,
   "metadata": {},
   "outputs": [
    {
     "name": "stdout",
     "output_type": "stream",
     "text": [
      "{'data', 'python', 'structure'}\n",
      "{'data', 'python', 'structure'}\n",
      "{'data'}\n",
      "{'data'}\n",
      "{'python'}\n",
      "{'python'}\n",
      "{'structure', 'python'}\n",
      "{'structure', 'python'}\n",
      "False\n",
      "False\n"
     ]
    }
   ],
   "source": [
    "x1 = {'data', 'python'}\n",
    "x2 = {'structure', 'data'}\n",
    "\n",
    "# união: .union, |\n",
    "x3 = x1 | x2\n",
    "x4 = x1.union(x2)\n",
    "\n",
    "print(x3)\n",
    "print(x4)\n",
    "\n",
    "# intersecção: .intersection, &\n",
    "x5 = x1 & x2\n",
    "x6 = x1.intersection(x2)\n",
    "\n",
    "print(x5)\n",
    "print(x6)\n",
    "\n",
    "# diferença: .difference, -\n",
    "x7 = x1 - x2 # todos que estão em x1 MAS NÃO ESTÃO em x2\n",
    "x8 = x1.difference(x2)\n",
    "\n",
    "print(x7)\n",
    "print(x8)\n",
    "\n",
    "# diferença simétrica: .symmetric_difference, ^\n",
    "x9 = x1 ^ x2 # todos os itens de dados que estão presentes em um outro MAS NÃO EM AMBOS\n",
    "x10 = x1.symmetric_difference(x2)\n",
    "\n",
    "print(x9)\n",
    "print(x10)\n",
    "\n",
    "# subconjuntos: .issubset, <=\n",
    "x11 = x1 <= x2\n",
    "x12 = x1.issubset(x2)\n",
    "\n",
    "print(x11)\n",
    "print(x12)"
   ]
  },
  {
   "cell_type": "code",
   "execution_count": 14,
   "metadata": {},
   "outputs": [
    {
     "name": "stdout",
     "output_type": "stream",
     "text": [
      "frozenset({'frozenset', 'this', 'a', 'is'})\n"
     ]
    }
   ],
   "source": [
    "# frozenset ou conjuntos imutáveis ou seja não podem ser alteradas após a criação\n",
    "# a ordem não é definida\n",
    "x = frozenset(['this', 'is', 'a', 'frozenset'])\n",
    "print (x)"
   ]
  },
  {
   "cell_type": "code",
   "execution_count": 17,
   "metadata": {},
   "outputs": [
    {
     "ename": "TypeError",
     "evalue": "unhashable type: 'set'",
     "output_type": "error",
     "traceback": [
      "\u001b[0;31m---------------------------------------------------------------------------\u001b[0m",
      "\u001b[0;31mTypeError\u001b[0m                                 Traceback (most recent call last)",
      "Cell \u001b[0;32mIn[17], line 5\u001b[0m\n\u001b[1;32m      2\u001b[0m a21 \u001b[38;5;241m=\u001b[39m {\u001b[38;5;124m'\u001b[39m\u001b[38;5;124mstructure\u001b[39m\u001b[38;5;124m'\u001b[39m}\n\u001b[1;32m      3\u001b[0m a31 \u001b[38;5;241m=\u001b[39m {\u001b[38;5;124m'\u001b[39m\u001b[38;5;124mpython\u001b[39m\u001b[38;5;124m'\u001b[39m}\n\u001b[0;32m----> 5\u001b[0m xa \u001b[38;5;241m=\u001b[39m {a11, a21, a31}\n",
      "\u001b[0;31mTypeError\u001b[0m: unhashable type: 'set'"
     ]
    }
   ],
   "source": [
    "a11 = {'data'}\n",
    "a21 = {'structure'}\n",
    "a31 = {'python'}\n",
    "\n",
    "xa = {a11, a21, a31} # TypeError: unhashable type: 'set'"
   ]
  },
  {
   "cell_type": "code",
   "execution_count": 19,
   "metadata": {},
   "outputs": [
    {
     "name": "stdout",
     "output_type": "stream",
     "text": [
      "{frozenset({'data'}), frozenset({'python'}), frozenset({'structure'})}\n"
     ]
    }
   ],
   "source": [
    "# Os frozensets serão úteis quando você quiser usar um conjunto, mas precisar de um objeto imutável.\n",
    "\n",
    "a12 = frozenset(['data'])\n",
    "a22 = frozenset(['structure'])\n",
    "a32 = frozenset(['python'])\n",
    "\n",
    "xaa = {a12, a22, a32}\n",
    "\n",
    "print(xaa)"
   ]
  },
  {
   "cell_type": "markdown",
   "metadata": {},
   "source": [
    "Módulos são tipos de contêineres para armazenar diferentes objetos.\n",
    "Um módulo é .py e contém uma coleção de funções, classes e variáveis.\n",
    "Um pacote é um diretório com uma coleção de módulos. Possui um arquivo __init__.py que avisa ao interpretador que está lidando com um pacote.\n",
    "Diferentes tipos de dados de contêiner do módulo collections:\n",
    "namedtuple (tuple com campos nomeados), deque (lista duplamente encadeada com inclusão/exclusão eficiente nas extremidades), defaultdict (subclasse de dict que retorna valores padrão para chaves ausentes), ChainMap(dict mescla de vários dicts), Counter (dict com contagens correspondentes aos seus objetos/chaves), UserDict - UserList - UserString (adiciona mais funcionalidades à sua estrutura de dados base - personalizando)"
   ]
  },
  {
   "cell_type": "code",
   "execution_count": 22,
   "metadata": {},
   "outputs": [
    {
     "name": "stdout",
     "output_type": "stream",
     "text": [
      "Index ISBN is: 12345\n",
      "key ISBN is: 12345\n"
     ]
    }
   ],
   "source": [
    "# tuplas nomeadas\n",
    "# nt = namedtuple(typename, field_names)\n",
    "\n",
    "from collections import namedtuple\n",
    "Book = namedtuple('Book', ['name', 'ISBN', 'quantity']) # criando a classe Book de tuplas nomeadas\n",
    "book1 = Book('Hands on Data Structure', '12345', '50') # criando uma instância para a classe Book\n",
    "\n",
    "print('Index ISBN is: ' + book1[1])\n",
    "print('key ISBN is: ' + book1.ISBN)"
   ]
  },
  {
   "cell_type": "code",
   "execution_count": 26,
   "metadata": {},
   "outputs": [
    {
     "name": "stdout",
     "output_type": "stream",
     "text": [
      "deque([])\n",
      "deque([1, 2, 'Name'])\n",
      "deque([1, 2, 'Name', 'age'])\n",
      "deque(['age_again', 1, 2, 'Name', 'age'])\n",
      "deque(['age_again', 1, 2, 'Name'])\n",
      "deque([1, 2, 'Name'])\n"
     ]
    }
   ],
   "source": [
    "# deque é uma fila (queue) de extremidade dupla (double-ended queue) que suporta a inserção e a extração de elementos nos \n",
    "# dois lados da lista.\n",
    "# tempo O(1)\n",
    "\n",
    "from collections import deque\n",
    "x = deque() # cria um deque vazio\n",
    "print (x)\n",
    "my_queue = deque([1, 2, 'Name'])\n",
    "print(my_queue)\n",
    "\n",
    "my_queue.append('age')\n",
    "print(my_queue)\n",
    "\n",
    "my_queue.appendleft('age_again')\n",
    "print(my_queue)\n",
    "\n",
    "my_queue.pop()\n",
    "print(my_queue)\n",
    "\n",
    "my_queue.popleft()\n",
    "print(my_queue)"
   ]
  },
  {
   "cell_type": "code",
   "execution_count": 28,
   "metadata": {},
   "outputs": [
    {
     "name": "stdout",
     "output_type": "stream",
     "text": [
      "OrderedDict({'this': 0, 'is': 1, 'a': 2, 'ordered': 3, 'dict': 4, 'new_key': 2})\n"
     ]
    }
   ],
   "source": [
    "# dicionários ordenados: preserva a ordem em que os itens são inseridos\n",
    "# od = OrderedDict([items])\n",
    "from collections import OrderedDict\n",
    "od = OrderedDict({'this': 0, 'is':1, 'a':2, 'ordered':3, 'dict':4})\n",
    "od['new_key'] = 2\n",
    "print(od)"
   ]
  },
  {
   "cell_type": "code",
   "execution_count": 29,
   "metadata": {},
   "outputs": [
    {
     "name": "stdout",
     "output_type": "stream",
     "text": [
      "defaultdict(<class 'int'>, {'data': 4, 'python': 2, 'structure': 1})\n"
     ]
    }
   ],
   "source": [
    "# dicionário padrão = defaultdict: subclasse de dict com mesmos métodos e operações da classe dict; porém nunca lança KeyError\n",
    "# é uma maneira de inicializar dicts\n",
    "# d = defaultdict(def_value)\n",
    "\n",
    "from collections import defaultdict\n",
    "dd = defaultdict(int)\n",
    "words = str.split('data python data data structure data python')\n",
    "for word in words:\n",
    "    dd[word] +=1\n",
    "\n",
    "print(dd)"
   ]
  },
  {
   "cell_type": "code",
   "execution_count": 30,
   "metadata": {},
   "outputs": [
    {
     "name": "stdout",
     "output_type": "stream",
     "text": [
      "ChainMap({'data': 1, 'structure': 2}, {'python': 3, 'language': 4})\n",
      "['python', 'language', 'data', 'structure']\n",
      "[3, 4, 1, 2]\n",
      "1\n"
     ]
    }
   ],
   "source": [
    "# ChainMap: é uma lista de dicts\n",
    "# class collections.ChainMap(dict1, dict2)\n",
    "\n",
    "from collections import ChainMap\n",
    "dict1 = {'data': 1, 'structure': 2}\n",
    "dict2 = {'python': 3, 'language': 4}\n",
    "chain = ChainMap(dict1, dict2)\n",
    "print(chain)\n",
    "print(list(chain.keys()))\n",
    "print(list(chain.values()))\n",
    "print(chain['data'])"
   ]
  },
  {
   "cell_type": "code",
   "execution_count": 32,
   "metadata": {},
   "outputs": [
    {
     "name": "stdout",
     "output_type": "stream",
     "text": [
      "Counter({'l': 2, 'h': 1, 'e': 1, 'o': 1})\n",
      "2\n"
     ]
    }
   ],
   "source": [
    "# counter: usado na contagem dos números hashable\n",
    "# a chave do dict é um objeto hashable, e o valor correspondente é o counter do objeto\n",
    "# counter cria uma tabela hash em que os elementos e suas contagens são chave:valor de um dict\n",
    "\n",
    "from collections import Counter\n",
    "inventory = Counter('hello')\n",
    "print(inventory)\n",
    "print(inventory['l'])"
   ]
  },
  {
   "cell_type": "code",
   "execution_count": 33,
   "metadata": {},
   "outputs": [
    {
     "ename": "RuntimeError",
     "evalue": "Cannot insert",
     "output_type": "error",
     "traceback": [
      "\u001b[0;31m---------------------------------------------------------------------------\u001b[0m",
      "\u001b[0;31mRuntimeError\u001b[0m                              Traceback (most recent call last)",
      "Cell \u001b[0;32mIn[33], line 10\u001b[0m\n\u001b[1;32m      7\u001b[0m         \u001b[38;5;28;01mraise\u001b[39;00m \u001b[38;5;167;01mRuntimeError\u001b[39;00m(\u001b[38;5;124m\"\u001b[39m\u001b[38;5;124mCannot insert\u001b[39m\u001b[38;5;124m\"\u001b[39m)\n\u001b[1;32m      9\u001b[0m d \u001b[38;5;241m=\u001b[39m MyDict({\u001b[38;5;124m'\u001b[39m\u001b[38;5;124mab\u001b[39m\u001b[38;5;124m'\u001b[39m:\u001b[38;5;241m1\u001b[39m, \u001b[38;5;124m'\u001b[39m\u001b[38;5;124mbc\u001b[39m\u001b[38;5;124m'\u001b[39m: \u001b[38;5;241m2\u001b[39m, \u001b[38;5;124m'\u001b[39m\u001b[38;5;124mcd\u001b[39m\u001b[38;5;124m'\u001b[39m: \u001b[38;5;241m3\u001b[39m})\n\u001b[0;32m---> 10\u001b[0m d\u001b[38;5;241m.\u001b[39mpush(\u001b[38;5;124m'\u001b[39m\u001b[38;5;124mb\u001b[39m\u001b[38;5;124m'\u001b[39m, \u001b[38;5;241m2\u001b[39m)\n",
      "Cell \u001b[0;32mIn[33], line 7\u001b[0m, in \u001b[0;36mMyDict.push\u001b[0;34m(self, key, value)\u001b[0m\n\u001b[1;32m      6\u001b[0m \u001b[38;5;28;01mdef\u001b[39;00m \u001b[38;5;21mpush\u001b[39m(\u001b[38;5;28mself\u001b[39m, key, value):\n\u001b[0;32m----> 7\u001b[0m     \u001b[38;5;28;01mraise\u001b[39;00m \u001b[38;5;167;01mRuntimeError\u001b[39;00m(\u001b[38;5;124m\"\u001b[39m\u001b[38;5;124mCannot insert\u001b[39m\u001b[38;5;124m\"\u001b[39m)\n",
      "\u001b[0;31mRuntimeError\u001b[0m: Cannot insert"
     ]
    }
   ],
   "source": [
    "# UserDict: encapsula os objetos do dict; podemos add funções personalizadas ao dict para  adicionar, atualizar e modificar \n",
    "# as functionalidades de um dict.\n",
    "\n",
    "# por exemplo: não podemos fazer inserções nesse dict do usuário\n",
    "from collections import UserDict\n",
    "class MyDict(UserDict):\n",
    "    def push(self, key, value):\n",
    "        raise RuntimeError(\"Cannot insert\")\n",
    "    \n",
    "d = MyDict({'ab':1, 'bc': 2, 'cd': 3})\n",
    "d.push('b', 2)"
   ]
  },
  {
   "cell_type": "code",
   "execution_count": 34,
   "metadata": {},
   "outputs": [
    {
     "ename": "RuntimeError",
     "evalue": "Cannot insert in the list",
     "output_type": "error",
     "traceback": [
      "\u001b[0;31m---------------------------------------------------------------------------\u001b[0m",
      "\u001b[0;31mRuntimeError\u001b[0m                              Traceback (most recent call last)",
      "Cell \u001b[0;32mIn[34], line 10\u001b[0m\n\u001b[1;32m      7\u001b[0m         \u001b[38;5;28;01mraise\u001b[39;00m \u001b[38;5;167;01mRuntimeError\u001b[39;00m(\u001b[38;5;124m\"\u001b[39m\u001b[38;5;124mCannot insert in the list\u001b[39m\u001b[38;5;124m\"\u001b[39m)\n\u001b[1;32m      9\u001b[0m d \u001b[38;5;241m=\u001b[39m MyList([\u001b[38;5;241m11\u001b[39m, \u001b[38;5;241m12\u001b[39m, \u001b[38;5;241m13\u001b[39m])\n\u001b[0;32m---> 10\u001b[0m d\u001b[38;5;241m.\u001b[39mpush(\u001b[38;5;241m2\u001b[39m)\n",
      "Cell \u001b[0;32mIn[34], line 7\u001b[0m, in \u001b[0;36mMyList.push\u001b[0;34m(self, key)\u001b[0m\n\u001b[1;32m      6\u001b[0m \u001b[38;5;28;01mdef\u001b[39;00m \u001b[38;5;21mpush\u001b[39m(\u001b[38;5;28mself\u001b[39m, key):\n\u001b[0;32m----> 7\u001b[0m     \u001b[38;5;28;01mraise\u001b[39;00m \u001b[38;5;167;01mRuntimeError\u001b[39;00m(\u001b[38;5;124m\"\u001b[39m\u001b[38;5;124mCannot insert in the list\u001b[39m\u001b[38;5;124m\"\u001b[39m)\n",
      "\u001b[0;31mRuntimeError\u001b[0m: Cannot insert in the list"
     ]
    }
   ],
   "source": [
    "# UserList: encapsula os objetos de uma list, podendo estender as funcionalidades dela. \n",
    "\n",
    "# por exemplo: não podemos fazer inserções nessa lista de usuário\n",
    "from collections import UserList\n",
    "class MyList(UserList):\n",
    "    def push(self, key):\n",
    "        raise RuntimeError(\"Cannot insert in the list\")\n",
    "\n",
    "d = MyList([11, 12, 13])\n",
    "d.push(2)"
   ]
  },
  {
   "cell_type": "code",
   "execution_count": 35,
   "metadata": {},
   "outputs": [
    {
     "name": "stdout",
     "output_type": "stream",
     "text": [
      "Original data\n",
      "After append:  datah\n"
     ]
    }
   ],
   "source": [
    "# UserString: array de caracteres, podem ser usadas para criar funcionalidades personalizadas em strings.\n",
    "\n",
    "# por exemplo: cria uma função de inclusão personalizada para a string\n",
    "from collections import UserString\n",
    "class MyString(UserString):\n",
    "    def append(self, value):\n",
    "        self.data += value\n",
    "\n",
    "s1 = MyString(\"data\")\n",
    "print(\"Original\", s1)\n",
    "s1.append(\"h\")\n",
    "\n",
    "print(\"After append: \", s1)\n",
    "    "
   ]
  }
 ],
 "metadata": {
  "kernelspec": {
   "display_name": "base",
   "language": "python",
   "name": "python3"
  },
  "language_info": {
   "codemirror_mode": {
    "name": "ipython",
    "version": 3
   },
   "file_extension": ".py",
   "mimetype": "text/x-python",
   "name": "python",
   "nbconvert_exporter": "python",
   "pygments_lexer": "ipython3",
   "version": "3.12.2"
  }
 },
 "nbformat": 4,
 "nbformat_minor": 2
}
